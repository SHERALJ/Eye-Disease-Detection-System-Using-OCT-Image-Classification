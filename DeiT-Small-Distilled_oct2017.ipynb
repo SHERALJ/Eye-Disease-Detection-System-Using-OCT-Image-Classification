{
 "cells": [
  {
   "cell_type": "markdown",
   "id": "637cb8d3",
   "metadata": {},
   "source": [
    "# DEEP LEANINNG MODEL - DeiT-Small-Distilled"
   ]
  },
  {
   "cell_type": "code",
   "execution_count": 11,
   "id": "995d968e",
   "metadata": {},
   "outputs": [
    {
     "name": "stdout",
     "output_type": "stream",
     "text": [
      "Running in WSL: True\n",
      "DATA_ROOT  -> /mnt/c/Users/sheno/OneDrive/CODCSD201F-006-SetupFile/Desktop/FINAL/dataset/OCT2017_70_15_15\n",
      "MODELS_DIR -> /mnt/c/Users/sheno/OneDrive/CODCSD201F-006-SetupFile/Desktop/FINAL/models\n",
      "\n",
      "Peeking into: /mnt/c/Users/sheno/OneDrive/CODCSD201F-006-SetupFile/Desktop/FINAL/dataset/OCT2017_70_15_15\n",
      "\n",
      "[train] exists: True -> /mnt/c/Users/sheno/OneDrive/CODCSD201F-006-SetupFile/Desktop/FINAL/dataset/OCT2017_70_15_15/train\n",
      "  CNV     ->  26216 files | path: /mnt/c/Users/sheno/OneDrive/CODCSD201F-006-SetupFile/Desktop/FINAL/dataset/OCT2017_70_15_15/train/CNV\n",
      "    - CNV-1016042-1.png\n",
      "    - CNV-1016042-10.png\n",
      "    - CNV-1016042-100.png\n",
      "  DME     ->   8116 files | path: /mnt/c/Users/sheno/OneDrive/CODCSD201F-006-SetupFile/Desktop/FINAL/dataset/OCT2017_70_15_15/train/DME\n",
      "    - DME-1072015-1.png\n",
      "    - DME-1072015-2.png\n",
      "    - DME-1072015-3.png\n",
      "  DRUSEN  ->   6201 files | path: /mnt/c/Users/sheno/OneDrive/CODCSD201F-006-SetupFile/Desktop/FINAL/dataset/OCT2017_70_15_15/train/DRUSEN\n",
      "    - DRUSEN-1001666-4.png\n",
      "    - DRUSEN-1001666-5.png\n",
      "    - DRUSEN-1001666-6.png\n",
      "  NORMAL  ->  18593 files | path: /mnt/c/Users/sheno/OneDrive/CODCSD201F-006-SetupFile/Desktop/FINAL/dataset/OCT2017_70_15_15/train/NORMAL\n",
      "    - NORMAL-1001666-1.png\n",
      "    - NORMAL-1001772-3.png\n",
      "    - NORMAL-1001772-5.png\n",
      "\n",
      "[val] exists: True -> /mnt/c/Users/sheno/OneDrive/CODCSD201F-006-SetupFile/Desktop/FINAL/dataset/OCT2017_70_15_15/val\n",
      "  CNV     ->   5618 files | path: /mnt/c/Users/sheno/OneDrive/CODCSD201F-006-SetupFile/Desktop/FINAL/dataset/OCT2017_70_15_15/val/CNV\n",
      "    - CNV-1016042-116.png\n",
      "    - CNV-1016042-127.png\n",
      "    - CNV-1016042-128.png\n",
      "  DME     ->   1739 files | path: /mnt/c/Users/sheno/OneDrive/CODCSD201F-006-SetupFile/Desktop/FINAL/dataset/OCT2017_70_15_15/val/DME\n",
      "    - DME-1081406-1.png\n",
      "    - DME-1083927-10.png\n",
      "    - DME-1083927-7.png\n",
      "  DRUSEN  ->   1329 files | path: /mnt/c/Users/sheno/OneDrive/CODCSD201F-006-SetupFile/Desktop/FINAL/dataset/OCT2017_70_15_15/val/DRUSEN\n",
      "    - DRUSEN-1001666-1.png\n",
      "    - DRUSEN-1001666-7.png\n",
      "    - DRUSEN-1020679-4.png\n",
      "  NORMAL  ->   3984 files | path: /mnt/c/Users/sheno/OneDrive/CODCSD201F-006-SetupFile/Desktop/FINAL/dataset/OCT2017_70_15_15/val/NORMAL\n",
      "    - NORMAL-1001772-2.png\n",
      "    - NORMAL-1001772-7.png\n",
      "    - NORMAL-1004480-3.png\n",
      "\n",
      "[test] exists: True -> /mnt/c/Users/sheno/OneDrive/CODCSD201F-006-SetupFile/Desktop/FINAL/dataset/OCT2017_70_15_15/test\n",
      "  CNV     ->   5617 files | path: /mnt/c/Users/sheno/OneDrive/CODCSD201F-006-SetupFile/Desktop/FINAL/dataset/OCT2017_70_15_15/test/CNV\n",
      "    - CNV-1016042-104.png\n",
      "    - CNV-1016042-11.png\n",
      "    - CNV-1016042-117.png\n",
      "  DME     ->   1739 files | path: /mnt/c/Users/sheno/OneDrive/CODCSD201F-006-SetupFile/Desktop/FINAL/dataset/OCT2017_70_15_15/test/DME\n",
      "    - DME-1083927-2.png\n",
      "    - DME-1083927-3.png\n",
      "    - DME-11053-1.png\n",
      "  DRUSEN  ->   1329 files | path: /mnt/c/Users/sheno/OneDrive/CODCSD201F-006-SetupFile/Desktop/FINAL/dataset/OCT2017_70_15_15/test/DRUSEN\n",
      "    - DRUSEN-1001666-2.png\n",
      "    - DRUSEN-1001666-3.png\n",
      "    - DRUSEN-1001772-2.png\n",
      "  NORMAL  ->   3984 files | path: /mnt/c/Users/sheno/OneDrive/CODCSD201F-006-SetupFile/Desktop/FINAL/dataset/OCT2017_70_15_15/test/NORMAL\n",
      "    - NORMAL-1001772-1.png\n",
      "    - NORMAL-1001772-4.png\n",
      "    - NORMAL-1004480-1.png\n"
     ]
    }
   ],
   "source": [
    "# =========================\n",
    "# Cell 0 — WSL path helper + dataset peek\n",
    "# =========================\n",
    "import os, platform, glob\n",
    "from pathlib import PureWindowsPath\n",
    "\n",
    "def is_wsl():\n",
    "    try:\n",
    "        return (\"microsoft\" in platform.release().lower()) or (\"wsl\" in platform.version().lower())\n",
    "    except Exception:\n",
    "        return False\n",
    "\n",
    "def win_to_wsl_path(win_path: str) -> str:\n",
    "    if not is_wsl(): return win_path\n",
    "    if \":\" not in win_path: return win_path\n",
    "    p = PureWindowsPath(win_path)\n",
    "    drive = str(p.drive).replace(\":\", \"\").lower()\n",
    "    tail = str(p).replace(\"\\\\\", \"/\").split(\":/\")[-1]\n",
    "    return f\"/mnt/{drive}/{tail}\"\n",
    "\n",
    "def peek_some_images(root, classes=(\"CNV\",\"DME\",\"DRUSEN\",\"NORMAL\"), max_show=3):\n",
    "    print(f\"\\nPeeking into: {root}\")\n",
    "    for split in (\"train\",\"val\",\"test\"):\n",
    "        split_dir = os.path.join(root, split)\n",
    "        print(f\"\\n[{split}] exists: {os.path.isdir(split_dir)} -> {split_dir}\")\n",
    "        for cls in classes:\n",
    "            cls_dir = os.path.join(split_dir, cls)\n",
    "            imgs = []\n",
    "            if os.path.isdir(cls_dir):\n",
    "                for pat in (\"*.png\",\"*.jpg\",\"*.jpeg\",\"*.tif\",\"*.bmp\"):\n",
    "                    imgs.extend(glob.glob(os.path.join(cls_dir, pat)))\n",
    "            print(f\"  {cls:<7} -> {len(imgs):6d} files | path: {cls_dir}\")\n",
    "            for s in imgs[:max_show]:\n",
    "                print(\"    -\", os.path.basename(s))\n",
    "\n",
    "# --- Your Windows dataset path & save folder (edit if needed) ---\n",
    "WIN_DATA_ROOT = r\"C:\\Users\\sheno\\OneDrive\\CODCSD201F-006-SetupFile\\Desktop\\FINAL\\dataset\\OCT2017_70_15_15\"\n",
    "WIN_MODELS_DIR = r\"C:\\Users\\sheno\\OneDrive\\CODCSD201F-006-SetupFile\\Desktop\\FINAL\\models\"\n",
    "\n",
    "DATA_ROOT   = win_to_wsl_path(WIN_DATA_ROOT)\n",
    "MODELS_DIR  = win_to_wsl_path(WIN_MODELS_DIR)\n",
    "\n",
    "print(\"Running in WSL:\", is_wsl())\n",
    "print(\"DATA_ROOT  ->\", DATA_ROOT)\n",
    "print(\"MODELS_DIR ->\", MODELS_DIR)\n",
    "peek_some_images(DATA_ROOT)\n"
   ]
  },
  {
   "cell_type": "code",
   "execution_count": 12,
   "id": "bc168894",
   "metadata": {},
   "outputs": [
    {
     "name": "stdout",
     "output_type": "stream",
     "text": [
      "Torch: 2.8.0+cu128\n",
      "CUDA available: True\n",
      "GPU: NVIDIA GeForce GTX 1650 Ti\n"
     ]
    }
   ],
   "source": [
    "# =========================\n",
    "# Cell 1 — Imports, device, reproducibility\n",
    "# =========================\n",
    "import os, time, copy, random, gc\n",
    "from collections import Counter\n",
    "import numpy as np\n",
    "import matplotlib.pyplot as plt\n",
    "\n",
    "import torch\n",
    "import torch.nn as nn\n",
    "import torch.nn.functional as F\n",
    "from torch.utils.data import Dataset, DataLoader, WeightedRandomSampler\n",
    "from torchvision import transforms, datasets\n",
    "from torch.cuda.amp import GradScaler\n",
    "from contextlib import nullcontext\n",
    "\n",
    "from sklearn.metrics import classification_report, confusion_matrix, f1_score, accuracy_score\n",
    "from tqdm import tqdm\n",
    "\n",
    "# Reproducibility\n",
    "SEED = 42\n",
    "random.seed(SEED); np.random.seed(SEED)\n",
    "torch.manual_seed(SEED); torch.cuda.manual_seed_all(SEED)\n",
    "\n",
    "# Speed knobs\n",
    "torch.backends.cudnn.benchmark = True\n",
    "if hasattr(torch.backends.cuda.matmul, \"allow_tf32\"):\n",
    "    torch.backends.cuda.matmul.allow_tf32 = True\n",
    "if hasattr(torch.backends.cudnn, \"allow_tf32\"):\n",
    "    torch.backends.cudnn.allow_tf32 = True\n",
    "\n",
    "DEVICE = \"cuda\" if torch.cuda.is_available() else \"cpu\"\n",
    "print(\"Torch:\", torch.__version__)\n",
    "print(\"CUDA available:\", torch.cuda.is_available())\n",
    "if torch.cuda.is_available(): print(\"GPU:\", torch.cuda.get_device_name(0))\n",
    "\n",
    "def clean_mem():\n",
    "    gc.collect()\n",
    "    if torch.cuda.is_available():\n",
    "        torch.cuda.empty_cache()\n",
    "\n",
    "# Autocast context (new API if available)\n",
    "if hasattr(torch, \"amp\"):\n",
    "    def autocast_ctx():\n",
    "        return torch.amp.autocast(device_type=\"cuda\") if torch.cuda.is_available() else nullcontext()\n",
    "else:\n",
    "    from torch.cuda.amp import autocast\n",
    "    def autocast_ctx():\n",
    "        return autocast() if torch.cuda.is_available() else nullcontext()\n",
    "\n",
    "# Workers (safer defaults)\n",
    "if os.name == \"nt\" and not is_wsl():\n",
    "    DEFAULT_WORKERS = 0\n",
    "else:\n",
    "    DEFAULT_WORKERS = min(8, os.cpu_count() or 2)\n"
   ]
  },
  {
   "cell_type": "code",
   "execution_count": 21,
   "id": "846c1e9b",
   "metadata": {},
   "outputs": [
    {
     "name": "stdout",
     "output_type": "stream",
     "text": [
      "✅ Dataset structure looks good.\n"
     ]
    }
   ],
   "source": [
    "# =========================\n",
    "# Cell 2 — Config & structure check\n",
    "# =========================\n",
    "TRAIN_DIR = os.path.join(DATA_ROOT, \"train\")\n",
    "VAL_DIR   = os.path.join(DATA_ROOT, \"val\")\n",
    "TEST_DIR  = os.path.join(DATA_ROOT, \"test\")\n",
    "\n",
    "EXPECTED_CLASSES = [\"CNV\", \"DME\", \"DRUSEN\", \"NORMAL\"]\n",
    "\n",
    "# Training config\n",
    "IMG_SIZE      = 224\n",
    "BATCH_SIZE    = 16\n",
    "NUM_WORKERS   = DEFAULT_WORKERS\n",
    "EPOCHS        = 5\n",
    "LR            = 3e-4\n",
    "WEIGHT_DECAY  = 0.05   # good for ViT/DeiT\n",
    "LABEL_SMOOTH  = 0.05\n",
    "MODEL_NAME    = \"deit_small_distilled_patch16_224\"\n",
    "PATIENCE      = 5\n",
    "\n",
    "os.makedirs(\"checkpoints\", exist_ok=True)\n",
    "os.makedirs(\"runs\", exist_ok=True)\n",
    "os.makedirs(MODELS_DIR, exist_ok=True)\n",
    "\n",
    "def check_structure(root, splits=(\"train\",\"val\",\"test\"), classes=EXPECTED_CLASSES):\n",
    "    problems = []\n",
    "    for split in splits:\n",
    "        split_path = os.path.join(root, split)\n",
    "        if not os.path.isdir(split_path): problems.append(f\"Missing split folder: {split_path}\"); continue\n",
    "        for cls in classes:\n",
    "            cls_path = os.path.join(split_path, cls)\n",
    "            if not os.path.isdir(cls_path): problems.append(f\"Missing class folder: {cls_path}\")\n",
    "            else:\n",
    "                has_img = any(fn.lower().endswith((\".png\",\".jpg\",\".jpeg\",\".tif\",\".bmp\"))\n",
    "                              for fn in os.listdir(cls_path))\n",
    "                if not has_img:\n",
    "                    problems.append(f\"No image files in: {cls_path} (OneDrive hydrate?)\")\n",
    "    if problems:\n",
    "        print(\"❌ Structure issues:\")\n",
    "        for p in problems: print(\" -\", p)\n",
    "        raise FileNotFoundError(\"Fix dataset structure before continuing.\")\n",
    "    print(\"✅ Dataset structure looks good.\")\n",
    "\n",
    "check_structure(DATA_ROOT)\n"
   ]
  },
  {
   "cell_type": "code",
   "execution_count": 22,
   "id": "6cf783f5",
   "metadata": {},
   "outputs": [
    {
     "name": "stdout",
     "output_type": "stream",
     "text": [
      "Classes: ['CNV', 'DME', 'DRUSEN', 'NORMAL']\n",
      "Train counts: {'CNV': 26216, 'DME': 8116, 'DRUSEN': 6201, 'NORMAL': 18593}\n",
      "Val counts  : {'CNV': 5618, 'DME': 1739, 'DRUSEN': 1329, 'NORMAL': 3984}\n",
      "Test counts : {'CNV': 5617, 'DME': 1739, 'DRUSEN': 1329, 'NORMAL': 3984}\n"
     ]
    }
   ],
   "source": [
    "# =========================\n",
    "# Cell 3 — Discover data & counts\n",
    "# =========================\n",
    "tmp_train = datasets.ImageFolder(TRAIN_DIR)\n",
    "tmp_val   = datasets.ImageFolder(VAL_DIR)\n",
    "tmp_test  = datasets.ImageFolder(TEST_DIR)\n",
    "\n",
    "class_names = tmp_train.classes\n",
    "print(\"Classes:\", class_names)\n",
    "assert sorted(class_names) == sorted(EXPECTED_CLASSES), \"Classes on disk don't match EXPECTED_CLASSES.\"\n",
    "\n",
    "from collections import Counter\n",
    "def count_per_class(ds):\n",
    "    cnt = Counter([y for _, y in ds.samples])\n",
    "    return {class_names[i]: cnt[i] for i in range(len(class_names))}\n",
    "\n",
    "print(\"Train counts:\", count_per_class(tmp_train))\n",
    "print(\"Val counts  :\", count_per_class(tmp_val))\n",
    "print(\"Test counts :\", count_per_class(tmp_test))\n"
   ]
  },
  {
   "cell_type": "code",
   "execution_count": 23,
   "id": "3a3d5462",
   "metadata": {},
   "outputs": [],
   "source": [
    "# =========================\n",
    "# Cell 4 — Transforms\n",
    "# =========================\n",
    "base_train_t = transforms.Compose([\n",
    "    transforms.Grayscale(num_output_channels=3),   # DeiT expects 3ch (ImageNet stats)\n",
    "    transforms.RandomHorizontalFlip(0.5),\n",
    "    transforms.RandomRotation(10),\n",
    "    transforms.ToTensor(),\n",
    "    transforms.Normalize([0.485,0.456,0.406],[0.229,0.224,0.225]),\n",
    "])\n",
    "\n",
    "def heavy_aug_t():\n",
    "    return transforms.Compose([\n",
    "        transforms.Grayscale(num_output_channels=3),\n",
    "        transforms.RandomHorizontalFlip(0.6),\n",
    "        transforms.RandomVerticalFlip(0.15),\n",
    "        transforms.RandomApply([transforms.RandomRotation(10)], p=0.6),\n",
    "        transforms.RandomApply([transforms.RandomAffine(0, translate=(0.05,0.05), scale=(0.95,1.05))], p=0.6),\n",
    "        transforms.RandomApply([transforms.ColorJitter(0.10, 0.10)], p=0.3),\n",
    "        transforms.ToTensor(),\n",
    "        transforms.Normalize([0.485,0.456,0.406],[0.229,0.224,0.225]),\n",
    "    ])\n",
    "\n",
    "base_eval_t = transforms.Compose([\n",
    "    transforms.Grayscale(num_output_channels=3),\n",
    "    transforms.ToTensor(),\n",
    "    transforms.Normalize([0.485,0.456,0.406],[0.229,0.224,0.225]),\n",
    "])\n"
   ]
  },
  {
   "cell_type": "code",
   "execution_count": 24,
   "id": "319df5f1",
   "metadata": {},
   "outputs": [
    {
     "name": "stdout",
     "output_type": "stream",
     "text": [
      "Minority classes (heavier aug): ['DME', 'DRUSEN', 'NORMAL']\n",
      "Batches -> train/val/test: 3696 792 792\n"
     ]
    }
   ],
   "source": [
    "# =========================\n",
    "# Cell 5 — Datasets, sampler, loaders\n",
    "# =========================\n",
    "class ClassAwareImageFolder(Dataset):\n",
    "    def __init__(self, root, default_transform, class_transforms=None):\n",
    "        self.inner = datasets.ImageFolder(root=root)\n",
    "        self.default_transform = default_transform\n",
    "        self.class_transforms = class_transforms or {}\n",
    "        self.name_to_idx = self.inner.class_to_idx\n",
    "        self.idx_to_transform = {}\n",
    "        for name, t in self.class_transforms.items():\n",
    "            if name in self.name_to_idx:\n",
    "                self.idx_to_transform[self.name_to_idx[name]] = t\n",
    "\n",
    "    def __len__(self): return len(self.inner)\n",
    "\n",
    "    def __getitem__(self, i):\n",
    "        path, label = self.inner.samples[i]\n",
    "        img = self.inner.loader(path)  # PIL image\n",
    "        t = self.idx_to_transform.get(label, self.default_transform)\n",
    "        img = t(img)\n",
    "        return img, label\n",
    "\n",
    "    @property\n",
    "    def samples(self): return self.inner.samples\n",
    "    @property\n",
    "    def classes(self): return self.inner.classes\n",
    "\n",
    "# minority classes in TRAIN\n",
    "train_counts = Counter([y for _, y in tmp_train.samples])\n",
    "counts_list = [train_counts[i] for i in range(len(class_names))]\n",
    "median_count = sorted(counts_list)[len(counts_list)//2]\n",
    "minority_idx = [i for i, c in enumerate(counts_list) if c <= median_count]\n",
    "minority_names = [class_names[i] for i in minority_idx]\n",
    "print(\"Minority classes (heavier aug):\", minority_names)\n",
    "class_transforms = {n: heavy_aug_t() for n in minority_names}\n",
    "\n",
    "# Build datasets\n",
    "train_ds = ClassAwareImageFolder(TRAIN_DIR, default_transform=base_train_t, class_transforms=class_transforms)\n",
    "val_ds   = ClassAwareImageFolder(VAL_DIR,   default_transform=base_eval_t)\n",
    "test_ds  = ClassAwareImageFolder(TEST_DIR,  default_transform=base_eval_t)\n",
    "\n",
    "# Weighted sampler (balance training batches)\n",
    "class_count_map = Counter([y for _, y in train_ds.samples])\n",
    "sample_weights = [1.0 / class_count_map[y] for _, y in train_ds.samples]\n",
    "sampler = WeightedRandomSampler(weights=sample_weights, num_samples=len(sample_weights), replacement=True)\n",
    "\n",
    "def worker_init_fn(worker_id): np.random.seed(SEED + worker_id)\n",
    "\n",
    "pin = torch.cuda.is_available()\n",
    "persist = NUM_WORKERS > 0\n",
    "\n",
    "train_loader = DataLoader(\n",
    "    train_ds, batch_size=BATCH_SIZE, sampler=sampler,\n",
    "    num_workers=NUM_WORKERS, pin_memory=pin,\n",
    "    persistent_workers=persist, prefetch_factor=4,\n",
    "    worker_init_fn=worker_init_fn\n",
    ")\n",
    "val_loader = DataLoader(\n",
    "    val_ds, batch_size=BATCH_SIZE, shuffle=False,\n",
    "    num_workers=NUM_WORKERS, pin_memory=pin,\n",
    "    persistent_workers=persist, prefetch_factor=4\n",
    ")\n",
    "test_loader = DataLoader(\n",
    "    test_ds, batch_size=BATCH_SIZE, shuffle=False,\n",
    "    num_workers=NUM_WORKERS, pin_memory=pin,\n",
    "    persistent_workers=persist, prefetch_factor=4\n",
    ")\n",
    "\n",
    "print(\"Batches -> train/val/test:\", len(train_loader), len(val_loader), len(test_loader))\n"
   ]
  },
  {
   "cell_type": "code",
   "execution_count": 25,
   "id": "8e05c3e4",
   "metadata": {},
   "outputs": [
    {
     "name": "stdout",
     "output_type": "stream",
     "text": [
      "torch.compile enabled\n",
      "Model: deit_small_distilled_patch16_224 | Params: 21.67M\n"
     ]
    }
   ],
   "source": [
    "# =========================\n",
    "# Cell 6 — Build DeiT-Small-Distilled (timm)\n",
    "# =========================\n",
    "try:\n",
    "    import timm\n",
    "except ImportError:\n",
    "    import sys, subprocess\n",
    "    print(\"Installing timm...\")\n",
    "    subprocess.check_call([sys.executable, \"-m\", \"pip\", \"install\", \"timm\"])\n",
    "    import timm\n",
    "\n",
    "def build_model(num_classes: int, name: str = \"deit_small_distilled_patch16_224\"):\n",
    "    model = timm.create_model(name, pretrained=True, num_classes=num_classes)\n",
    "    return model\n",
    "\n",
    "model = build_model(num_classes=len(class_names), name=MODEL_NAME).to(DEVICE)\n",
    "\n",
    "# Optional compile (PyTorch 2.x)\n",
    "try:\n",
    "    model = torch.compile(model)\n",
    "    print(\"torch.compile enabled\")\n",
    "except Exception as e:\n",
    "    print(\"compile skipped:\", e)\n",
    "\n",
    "total_params = sum(p.numel() for p in model.parameters())\n",
    "print(f\"Model: {MODEL_NAME} | Params: {total_params/1e6:.2f}M\")\n"
   ]
  },
  {
   "cell_type": "code",
   "execution_count": 26,
   "id": "4d75300a",
   "metadata": {},
   "outputs": [
    {
     "name": "stderr",
     "output_type": "stream",
     "text": [
      "/tmp/ipykernel_649/1071609347.py:7: FutureWarning: `torch.cuda.amp.GradScaler(args...)` is deprecated. Please use `torch.amp.GradScaler('cuda', args...)` instead.\n",
      "  scaler = GradScaler()\n"
     ]
    }
   ],
   "source": [
    "# =========================\n",
    "# Cell 7 — Loss, optimizer, scheduler, scaler\n",
    "# =========================\n",
    "criterion = nn.CrossEntropyLoss(label_smoothing=LABEL_SMOOTH)\n",
    "optimizer = torch.optim.AdamW(model.parameters(), lr=LR, weight_decay=WEIGHT_DECAY)\n",
    "scheduler = torch.optim.lr_scheduler.CosineAnnealingLR(optimizer, T_max=EPOCHS)\n",
    "scaler = GradScaler()\n"
   ]
  },
  {
   "cell_type": "code",
   "execution_count": 27,
   "id": "6dad5773",
   "metadata": {},
   "outputs": [],
   "source": [
    "# =========================\n",
    "# Cell 8 — Train/Eval helpers\n",
    "# =========================\n",
    "@torch.no_grad()\n",
    "def evaluate(loader, model):\n",
    "    model.eval()\n",
    "    all_y, all_p = [], []\n",
    "    for x, y in loader:\n",
    "        x, y = x.to(DEVICE, non_blocking=True), y.to(DEVICE, non_blocking=True)\n",
    "        logits = model(x)\n",
    "        preds = logits.argmax(1)\n",
    "        all_y.append(y.cpu().numpy()); all_p.append(preds.cpu().numpy())\n",
    "    y_true = np.concatenate(all_y); y_pred = np.concatenate(all_p)\n",
    "    acc = accuracy_score(y_true, y_pred)\n",
    "    macro_f1 = f1_score(y_true, y_pred, average=\"macro\")\n",
    "    cm = confusion_matrix(y_true, y_pred, labels=list(range(len(class_names))))\n",
    "    return acc, macro_f1, cm, y_true, y_pred\n",
    "\n",
    "def train_one_epoch(model, loader, optimizer, scaler, criterion):\n",
    "    model.train()\n",
    "    running_loss, seen = 0.0, 0\n",
    "    for x, y in tqdm(loader, leave=False):\n",
    "        x, y = x.to(DEVICE, non_blocking=True), y.to(DEVICE, non_blocking=True)\n",
    "        optimizer.zero_grad(set_to_none=True)\n",
    "        with autocast_ctx():\n",
    "            logits = model(x)\n",
    "            loss = criterion(logits, y)\n",
    "        scaler.scale(loss).backward()\n",
    "        scaler.step(optimizer)\n",
    "        scaler.update()\n",
    "        running_loss += loss.item() * x.size(0)\n",
    "        seen += x.size(0)\n",
    "    return running_loss / max(1, seen)\n",
    "\n",
    "def plot_history(history, save_prefix=None):\n",
    "    epochs = range(1, len(history[\"train_loss\"]) + 1)\n",
    "    plt.figure(figsize=(12,5))\n",
    "    plt.subplot(1,2,1)\n",
    "    plt.plot(epochs, history[\"train_loss\"], 'b-o', label=\"Train Loss\")\n",
    "    plt.xlabel(\"Epoch\"); plt.ylabel(\"Loss\"); plt.title(\"Training Loss Curve\"); plt.legend()\n",
    "    plt.subplot(1,2,2)\n",
    "    plt.plot(epochs, history[\"val_acc\"], 'g-o', label=\"Val Accuracy\")\n",
    "    plt.plot(epochs, history[\"val_f1\"],  'r-o', label=\"Val F1\")\n",
    "    plt.xlabel(\"Epoch\"); plt.ylabel(\"Score\"); plt.title(\"Validation Accuracy & F1\"); plt.legend()\n",
    "    plt.tight_layout()\n",
    "    if save_prefix:\n",
    "        plt.savefig(f\"{save_prefix}_curves.png\", dpi=200, bbox_inches=\"tight\")\n",
    "    plt.show()\n",
    "\n",
    "def save_checkpoint(model_state, classes, epoch, val_acc, val_f1, prefix):\n",
    "    ckpt = {\n",
    "        \"model_state\": model_state,\n",
    "        \"classes\": classes,\n",
    "        \"epoch\": epoch,\n",
    "        \"val_acc\": float(val_acc),\n",
    "        \"val_f1\": float(val_f1),\n",
    "        \"config\": {\"MODEL_NAME\": MODEL_NAME, \"IMG_SIZE\": IMG_SIZE, \"BATCH_SIZE\": BATCH_SIZE, \"LR\": LR, \"WEIGHT_DECAY\": WEIGHT_DECAY}\n",
    "    }\n",
    "    path = f\"checkpoints/{prefix}.pth\"\n",
    "    torch.save(ckpt, path)\n",
    "    # mirror to your Windows folder\n",
    "    torch.save(ckpt, os.path.join(MODELS_DIR, f\"{prefix}.pth\"))\n",
    "    return path\n"
   ]
  },
  {
   "cell_type": "code",
   "execution_count": 28,
   "id": "09cae459",
   "metadata": {},
   "outputs": [
    {
     "name": "stderr",
     "output_type": "stream",
     "text": [
      "                                                     \r"
     ]
    },
    {
     "name": "stdout",
     "output_type": "stream",
     "text": [
      "Epoch 01 | loss 0.5844 | val_acc 0.8806 | val_f1 0.8413 | lr 2.71e-04 | 4644.6s\n",
      "  ↳ Saved best checkpoint to: checkpoints/deit_small_distilled_patch16_224_best.pth\n"
     ]
    },
    {
     "name": "stderr",
     "output_type": "stream",
     "text": [
      "                                                     \r"
     ]
    },
    {
     "name": "stdout",
     "output_type": "stream",
     "text": [
      "Epoch 02 | loss 0.4756 | val_acc 0.8634 | val_f1 0.8323 | lr 1.96e-04 | 4588.5s\n"
     ]
    },
    {
     "name": "stderr",
     "output_type": "stream",
     "text": [
      "                                                     \r"
     ]
    },
    {
     "name": "stdout",
     "output_type": "stream",
     "text": [
      "Epoch 03 | loss 0.4201 | val_acc 0.8934 | val_f1 0.8630 | lr 1.04e-04 | 4592.8s\n",
      "  ↳ Saved best checkpoint to: checkpoints/deit_small_distilled_patch16_224_best.pth\n"
     ]
    },
    {
     "name": "stderr",
     "output_type": "stream",
     "text": [
      "                                                     \r"
     ]
    },
    {
     "name": "stdout",
     "output_type": "stream",
     "text": [
      "Epoch 04 | loss 0.3736 | val_acc 0.9103 | val_f1 0.8838 | lr 2.86e-05 | 4594.4s\n",
      "  ↳ Saved best checkpoint to: checkpoints/deit_small_distilled_patch16_224_best.pth\n"
     ]
    },
    {
     "name": "stderr",
     "output_type": "stream",
     "text": [
      "                                                     \r"
     ]
    },
    {
     "name": "stdout",
     "output_type": "stream",
     "text": [
      "Epoch 05 | loss 0.3330 | val_acc 0.9047 | val_f1 0.8805 | lr 0.00e+00 | 4595.2s\n"
     ]
    },
    {
     "data": {
      "image/png": "[encoded data removed]",
      "text/plain": [
       "<Figure size 1200x500 with 2 Axes>"
      ]
     },
     "metadata": {},
     "output_type": "display_data"
    }
   ],
   "source": [
    "# =========================\n",
    "# Cell 9 — Train on (train) with val, early-stop on val_f1\n",
    "# =========================\n",
    "history = {\"train_loss\": [], \"val_acc\": [], \"val_f1\": []}\n",
    "best_state, best_f1, bad = None, -1, 0\n",
    "\n",
    "for epoch in range(1, EPOCHS + 1):\n",
    "    t0 = time.time()\n",
    "    train_loss = train_one_epoch(model, train_loader, optimizer, scaler, criterion)\n",
    "    val_acc, val_f1, val_cm, yv, pv = evaluate(val_loader, model)\n",
    "    scheduler.step()\n",
    "\n",
    "    history[\"train_loss\"].append(train_loss)\n",
    "    history[\"val_acc\"].append(val_acc)\n",
    "    history[\"val_f1\"].append(val_f1)\n",
    "\n",
    "    print(f\"Epoch {epoch:02d} | loss {train_loss:.4f} | val_acc {val_acc:.4f} | val_f1 {val_f1:.4f} | \"\n",
    "          f\"lr {scheduler.get_last_lr()[0]:.2e} | {time.time()-t0:.1f}s\")\n",
    "\n",
    "    if val_f1 > best_f1:\n",
    "        best_f1 = val_f1\n",
    "        best_state = copy.deepcopy(model.state_dict())\n",
    "        ck_name = f\"{MODEL_NAME}_best\"\n",
    "        ck_path = save_checkpoint(best_state, class_names, epoch, val_acc, val_f1, ck_name)\n",
    "        print(\"  ↳ Saved best checkpoint to:\", ck_path)\n",
    "        bad = 0\n",
    "    else:\n",
    "        bad += 1\n",
    "        if bad >= PATIENCE:\n",
    "            print(\"  ↳ Early stopping.\")\n",
    "            break\n",
    "\n",
    "clean_mem()\n",
    "\n",
    "if best_state is not None:\n",
    "    model.load_state_dict(best_state)\n",
    "\n",
    "# Curves\n",
    "plot_history(history, save_prefix=f\"runs/{MODEL_NAME}\")\n"
   ]
  },
  {
   "cell_type": "code",
   "execution_count": 29,
   "id": "e76080e0",
   "metadata": {},
   "outputs": [
    {
     "name": "stdout",
     "output_type": "stream",
     "text": [
      "\n",
      "=== TEST RESULTS ===\n",
      "Accuracy : 0.9102\n",
      "Macro F1 : 0.8841\n",
      "\n",
      "Classification Report:\n",
      "              precision    recall  f1-score   support\n",
      "\n",
      "         CNV     0.9886    0.8674    0.9240      5617\n",
      "         DME     0.9077    0.9448    0.9259      1739\n",
      "      DRUSEN     0.6364    0.8638    0.7328      1329\n",
      "      NORMAL     0.9372    0.9709    0.9538      3984\n",
      "\n",
      "    accuracy                         0.9102     12669\n",
      "   macro avg     0.8675    0.9117    0.8841     12669\n",
      "weighted avg     0.9244    0.9102    0.9136     12669\n",
      "\n"
     ]
    },
    {
     "data": {
      "image/png": "[encoded data removed]",
      "text/plain": [
       "<Figure size 600x600 with 2 Axes>"
      ]
     },
     "metadata": {},
     "output_type": "display_data"
    }
   ],
   "source": [
    "# =========================\n",
    "# Cell 10 — Test evaluation & confusion matrix\n",
    "# =========================\n",
    "test_acc, test_f1, test_cm, y_true, y_pred = evaluate(test_loader, model)\n",
    "\n",
    "print(\"\\n=== TEST RESULTS ===\")\n",
    "print(\"Accuracy :\", round(test_acc, 4))\n",
    "print(\"Macro F1 :\", round(test_f1, 4))\n",
    "\n",
    "print(\"\\nClassification Report:\")\n",
    "print(classification_report(y_true, y_pred, target_names=class_names, digits=4))\n",
    "\n",
    "# Confusion Matrix Plot (and save)\n",
    "fig, ax = plt.subplots(figsize=(6, 6))\n",
    "im = ax.imshow(test_cm, interpolation='nearest')\n",
    "ax.figure.colorbar(im, ax=ax)\n",
    "ax.set(xticks=np.arange(len(class_names)), yticks=np.arange(len(class_names)),\n",
    "       xticklabels=class_names, yticklabels=class_names,\n",
    "       ylabel='True label', xlabel='Predicted label', title='Confusion Matrix (Test)')\n",
    "plt.setp(ax.get_xticklabels(), rotation=45, ha=\"right\", rotation_mode=\"anchor\")\n",
    "\n",
    "thresh = test_cm.max() / 2.\n",
    "for i in range(test_cm.shape[0]):\n",
    "    for j in range(test_cm.shape[1]):\n",
    "        ax.text(j, i, format(test_cm[i, j], 'd'),\n",
    "                ha=\"center\", va=\"center\",\n",
    "                color=\"white\" if test_cm[i, j] > thresh else \"black\")\n",
    "plt.tight_layout()\n",
    "plt.savefig(\"runs/confusion_matrix_test.png\", dpi=200, bbox_inches=\"tight\")\n",
    "plt.show()\n"
   ]
  },
  {
   "cell_type": "code",
   "execution_count": 30,
   "id": "1f85ef3a",
   "metadata": {},
   "outputs": [
    {
     "name": "stdout",
     "output_type": "stream",
     "text": [
      "Saved: /mnt/c/Users/sheno/OneDrive/CODCSD201F-006-SetupFile/Desktop/FINAL/models/deit_small_distilled_patch16_224_oct2017_final_weights.pth\n",
      "Saved: /mnt/c/Users/sheno/OneDrive/CODCSD201F-006-SetupFile/Desktop/FINAL/models/deit_small_distilled_patch16_224_oct2017_final_weights.pkl\n"
     ]
    }
   ],
   "source": [
    "# =========================\n",
    "# Cell 11 — Save final weights (.pth and .pkl) to Windows folder\n",
    "# =========================\n",
    "import pickle\n",
    "\n",
    "state = model.state_dict()\n",
    "pth_path = os.path.join(MODELS_DIR, f\"{MODEL_NAME}_oct2017_final_weights.pth\")\n",
    "pkl_path = os.path.join(MODELS_DIR, f\"{MODEL_NAME}_oct2017_final_weights.pkl\")\n",
    "\n",
    "torch.save(state, pth_path)\n",
    "with open(pkl_path, \"wb\") as f: pickle.dump(state, f)\n",
    "\n",
    "print(\"Saved:\", pth_path)\n",
    "print(\"Saved:\", pkl_path)\n"
   ]
  }
 ],
 "metadata": {
  "kernelspec": {
   "display_name": "Python (WSL tf)",
   "language": "python",
   "name": "tf"
  },
  "language_info": {
   "codemirror_mode": {
    "name": "ipython",
    "version": 3
   },
   "file_extension": ".py",
   "mimetype": "text/x-python",
   "name": "python",
   "nbconvert_exporter": "python",
   "pygments_lexer": "ipython3",
   "version": "3.12.3"
  }
 },
 "nbformat": 4,
 "nbformat_minor": 5
}
