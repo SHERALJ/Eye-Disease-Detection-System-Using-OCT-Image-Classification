{
 "cells": [
  {
   "cell_type": "markdown",
   "id": "92576127",
   "metadata": {},
   "source": [
    "\n",
    "# # OCT2017 – Traditional Baseline: KNN\n",
    "\n"
   ]
  },
  {
   "cell_type": "code",
   "execution_count": null,
   "id": "b65b564e",
   "metadata": {},
   "outputs": [],
   "source": [
    "# ================================================\n",
    "# OCT2017 - Traditional Baseline: KNN \n",
    "# Features: HOG + LBP(8,1) + LBP(16,2) + GLCM + intensity histogram\n",
    "# Model: kNN (k=5, weights='distance')\n",
    "# Saves: model, metrics CSV, confusion matrix JSON, cached .npy features\n",
    "# ================================================\n",
    "import os, glob, time, platform, warnings, pickle, csv, json\n",
    "from pathlib import PureWindowsPath, Path\n",
    "warnings.filterwarnings(\"ignore\")\n",
    "\n",
    "import numpy as np\n",
    "import cv2\n",
    "from tqdm import tqdm\n",
    "\n",
    "# --- Sklearn\n",
    "from sklearn.pipeline import Pipeline\n",
    "from sklearn.preprocessing import StandardScaler, label_binarize\n",
    "from sklearn.decomposition import PCA\n",
    "from sklearn.neighbors import KNeighborsClassifier\n",
    "from sklearn.metrics import (classification_report, confusion_matrix,\n",
    "                             accuracy_score, f1_score, roc_auc_score)\n",
    "\n",
    "# --- Skimage features\n",
    "from skimage.feature import hog, local_binary_pattern, graycomatrix, graycoprops"
   ]
  },
  {
   "cell_type": "code",
   "execution_count": 4,
   "id": "4545149c",
   "metadata": {},
   "outputs": [],
   "source": [
    "\n",
    "# -------------------------------\n",
    "# WSL-safe path helper\n",
    "# -------------------------------\n",
    "def is_wsl():\n",
    "    try:\n",
    "        return (\"microsoft\" in platform.release().lower()) or (\"wsl\" in platform.version().lower())\n",
    "    except Exception:\n",
    "        return False\n",
    "\n",
    "def win_to_wsl_path(win_path: str) -> str:\n",
    "    if not is_wsl(): return win_path\n",
    "    if \":\" not in win_path: return win_path\n",
    "    p = PureWindowsPath(win_path)\n",
    "    drive = str(p.drive).replace(\":\", \"\").lower()\n",
    "    tail = str(p).replace(\"\\\\\", \"/\").split(\":/\")[-1]\n",
    "    return f\"/mnt/{drive}/{tail}\"\n"
   ]
  },
  {
   "cell_type": "code",
   "execution_count": null,
   "id": "65f5145a",
   "metadata": {},
   "outputs": [],
   "source": [
    "\n",
    "\n",
    "# -------------------------------\n",
    "# Config\n",
    "# -------------------------------\n",
    "# >>> UPDATE THIS TO YOUR DATASET ROOT <<<\n",
    "BASE_DIR = r\"C:\\Users\\sheno\\OneDrive\\CODCSD201F-006-SetupFile\\Desktop\\FINAL\\dataset\\OCT2017_70_15_15\"\n",
    "BASE_DIR = win_to_wsl_path(BASE_DIR)\n",
    "\n",
    "IMG_SIZE      = (244, 244)\n",
    "CLASSES       = [\"CNV\",\"DME\",\"DRUSEN\",\"NORMAL\"]\n",
    "RANDOM_SEED   = 42\n",
    "OUT_DIR       = \"traditional_knn\"\n",
    "CACHE_DIR     = os.path.join(OUT_DIR, \"cache\")\n",
    "os.makedirs(OUT_DIR, exist_ok=True)\n",
    "os.makedirs(CACHE_DIR, exist_ok=True)\n",
    "\n",
    "# Feature cache flags\n",
    "SAVE_FEATURES      = True\n",
    "LOAD_IF_AVAILABLE  = True\n",
    "\n",
    "# KNN + preprocessing\n",
    "USE_PCA    = True\n",
    "PCA_DIMS   = 256            # 128–512 is reasonable; lower = faster\n",
    "K_NEIGHBORS = 5\n",
    "K_WEIGHTS   = \"distance\"    # 'uniform' or 'distance'\n",
    "K_METRIC    = \"minkowski\"   # default L2\n",
    "N_JOBS      = -1            # used by some neighbors ops internally\n"
   ]
  },
  {
   "cell_type": "code",
   "execution_count": 6,
   "id": "7625a7d9",
   "metadata": {},
   "outputs": [],
   "source": [
    "\n",
    "# -------------------------------\n",
    "# Feature extractors\n",
    "# -------------------------------\n",
    "def extract_hog(img128):\n",
    "    return hog(img128,\n",
    "               pixels_per_cell=(16,16),\n",
    "               cells_per_block=(2,2),\n",
    "               orientations=9,\n",
    "               block_norm=\"L2-Hys\",\n",
    "               transform_sqrt=True,\n",
    "               feature_vector=True).astype(np.float32)\n",
    "\n",
    "def extract_lbp_hist(img128, P=8, R=1):\n",
    "    lbp = local_binary_pattern(img128, P=P, R=R, method=\"uniform\")\n",
    "    n_bins = int(P + 2)\n",
    "    hist, _ = np.histogram(lbp.ravel(), bins=n_bins, range=(0, n_bins), density=True)\n",
    "    return hist.astype(np.float32)\n",
    "\n",
    "def extract_glcm_stats(img128):\n",
    "    # quantize to 32 levels to stabilize GLCM\n",
    "    img8 = cv2.normalize(img128, None, 0, 255, cv2.NORM_MINMAX).astype(np.uint8)\n",
    "    imgQ = (img8 // 8).astype(np.uint8)  # 0..31\n",
    "    distances = [1, 2, 4]\n",
    "    angles = [0, np.pi/4, np.pi/2, 3*np.pi/4]\n",
    "    glcm = graycomatrix(imgQ, distances=distances, angles=angles,\n",
    "                        levels=32, symmetric=True, normed=True)\n",
    "    props = [\"contrast\",\"dissimilarity\",\"homogeneity\",\"ASM\",\"energy\",\"correlation\"]\n",
    "    feats = []\n",
    "    for p in props:\n",
    "        vals = graycoprops(glcm, p)    # (len(distances), len(angles))\n",
    "        feats.append(vals.mean())\n",
    "        feats.append(vals.std())\n",
    "    return np.array(feats, dtype=np.float32)\n",
    "\n",
    "def extract_intensity_hist(img128, bins=32):\n",
    "    hist = cv2.calcHist([img128],[0],None,[bins],[0,256]).ravel()\n",
    "    hist = hist / (hist.sum() + 1e-8)\n",
    "    return hist.astype(np.float32)\n",
    "\n",
    "def extract_features_single(gray128):\n",
    "    return np.concatenate([\n",
    "        extract_hog(gray128),\n",
    "        extract_lbp_hist(gray128, P=8,  R=1),\n",
    "        extract_lbp_hist(gray128, P=16, R=2),\n",
    "        extract_glcm_stats(gray128),\n",
    "        extract_intensity_hist(gray128, bins=32),\n",
    "    ], axis=0)\n"
   ]
  },
  {
   "cell_type": "code",
   "execution_count": 9,
   "id": "a86507b9",
   "metadata": {},
   "outputs": [],
   "source": [
    "\n",
    "# -------------------------------\n",
    "# Data loading\n",
    "# -------------------------------\n",
    "def list_images(root):\n",
    "    items = []\n",
    "    for c in CLASSES:\n",
    "        p = os.path.join(root, c)\n",
    "        exts = (\"*.jpg\",\"*.jpeg\",\"*.png\",\"*.bmp\",\"*.tif\",\"*.tiff\")\n",
    "        files = []\n",
    "        for e in exts:\n",
    "            files += glob.glob(os.path.join(p, e))\n",
    "        for f in files:\n",
    "            items.append((f, c))\n",
    "    return items\n",
    "\n",
    "def load_split(phase_dir, cache_prefix):\n",
    "    X_path = os.path.join(CACHE_DIR, f\"{cache_prefix}_X.npy\")\n",
    "    y_path = os.path.join(CACHE_DIR, f\"{cache_prefix}_y.npy\")\n",
    "    p_path = os.path.join(CACHE_DIR, f\"{cache_prefix}_paths.npy\")\n",
    "\n",
    "    if LOAD_IF_AVAILABLE and os.path.isfile(X_path) and os.path.isfile(y_path) and os.path.isfile(p_path):\n",
    "        X = np.load(X_path, mmap_mode=None)\n",
    "        y = np.load(y_path, mmap_mode=None)\n",
    "        paths = np.load(p_path, allow_pickle=True).tolist()\n",
    "        return X, y, paths\n",
    "\n",
    "    pairs = list_images(phase_dir)\n",
    "    X, y, paths = [], [], []\n",
    "    for fp, label in tqdm(pairs, desc=f\"Loading {phase_dir}\", total=len(pairs)):\n",
    "        img = cv2.imread(fp, cv2.IMREAD_GRAYSCALE)\n",
    "        if img is None:\n",
    "            continue\n",
    "        img = cv2.resize(img, IMG_SIZE, interpolation=cv2.INTER_AREA)\n",
    "        X.append(extract_features_single(img))\n",
    "        y.append(CLASSES.index(label))\n",
    "        paths.append(fp)\n",
    "\n",
    "    if len(X) == 0:\n",
    "        raise RuntimeError(f\"No images loaded from {phase_dir}. Check paths.\")\n",
    "\n",
    "    X = np.vstack(X).astype(np.float32)\n",
    "    y = np.array(y, dtype=np.int64)\n",
    "\n",
    "    if SAVE_FEATURES:\n",
    "        np.save(X_path, X)\n",
    "        np.save(y_path, y)\n",
    "        np.save(p_path, np.array(paths, dtype=object))\n",
    "    return X, y, paths"
   ]
  },
  {
   "cell_type": "code",
   "execution_count": 10,
   "id": "3aa5ad60",
   "metadata": {},
   "outputs": [
    {
     "name": "stdout",
     "output_type": "stream",
     "text": [
      "[INFO] Scanning dataset...\n",
      "  train: C:\\Users\\sheno\\OneDrive\\CODCSD201F-006-SetupFile\\Desktop\\FINAL\\dataset\\OCT2017_70_15_15\\train | classes found: ['CNV', 'DME', 'DRUSEN', 'NORMAL']\n",
      "  val: C:\\Users\\sheno\\OneDrive\\CODCSD201F-006-SetupFile\\Desktop\\FINAL\\dataset\\OCT2017_70_15_15\\val | classes found: ['CNV', 'DME', 'DRUSEN', 'NORMAL']\n",
      "  test: C:\\Users\\sheno\\OneDrive\\CODCSD201F-006-SetupFile\\Desktop\\FINAL\\dataset\\OCT2017_70_15_15\\test | classes found: ['CNV', 'DME', 'DRUSEN', 'NORMAL']\n"
     ]
    },
    {
     "name": "stderr",
     "output_type": "stream",
     "text": [
      "Loading C:\\Users\\sheno\\OneDrive\\CODCSD201F-006-SetupFile\\Desktop\\FINAL\\dataset\\OCT2017_70_15_15\\train: 100%|██████████| 59126/59126 [13:48<00:00, 71.35it/s]\n",
      "Loading C:\\Users\\sheno\\OneDrive\\CODCSD201F-006-SetupFile\\Desktop\\FINAL\\dataset\\OCT2017_70_15_15\\val: 100%|██████████| 12670/12670 [03:26<00:00, 61.50it/s]\n",
      "Loading C:\\Users\\sheno\\OneDrive\\CODCSD201F-006-SetupFile\\Desktop\\FINAL\\dataset\\OCT2017_70_15_15\\test: 100%|██████████| 12669/12669 [03:12<00:00, 65.77it/s]\n"
     ]
    },
    {
     "name": "stdout",
     "output_type": "stream",
     "text": [
      "[INFO] Shapes -> train (59126, 1836), val (12670, 1836), test (12669, 1836)\n",
      "[TIMER] Feature extraction: 1235.3s\n"
     ]
    }
   ],
   "source": [
    "\n",
    "# -------------------------------\n",
    "# Scan folders and load features\n",
    "# -------------------------------\n",
    "train_dir = os.path.join(BASE_DIR, \"train\")\n",
    "val_dir   = os.path.join(BASE_DIR, \"val\")\n",
    "test_dir  = os.path.join(BASE_DIR, \"test\")\n",
    "\n",
    "print(\"[INFO] Scanning dataset...\")\n",
    "for split in (\"train\",\"val\",\"test\"):\n",
    "    split_dir = os.path.join(BASE_DIR, split)\n",
    "    present = [c for c in CLASSES if os.path.isdir(os.path.join(split_dir, c))]\n",
    "    print(f\"  {split}: {split_dir} | classes found: {present}\")\n",
    "\n",
    "t0 = time.time()\n",
    "X_train, y_train, _ = load_split(train_dir, \"train\")\n",
    "X_val,   y_val,   _ = load_split(val_dir,   \"val\")\n",
    "X_test,  y_test,  _ = load_split(test_dir,  \"test\")\n",
    "print(f\"[INFO] Shapes -> train {X_train.shape}, val {X_val.shape}, test {X_test.shape}\")\n",
    "print(f\"[TIMER] Feature extraction: {time.time()-t0:.1f}s\")\n",
    "\n",
    "# Merge train+val for final training\n",
    "X_tr = np.vstack([X_train, X_val])\n",
    "y_tr = np.concatenate([y_train, y_val])"
   ]
  },
  {
   "cell_type": "code",
   "execution_count": 11,
   "id": "1ba231ce",
   "metadata": {},
   "outputs": [],
   "source": [
    "\n",
    "# -------------------------------\n",
    "# Build KNN pipeline\n",
    "# -------------------------------\n",
    "steps = [(\"scaler\", StandardScaler(with_mean=True, with_std=True))]\n",
    "if USE_PCA:\n",
    "    steps.append((\"pca\", PCA(n_components=PCA_DIMS, svd_solver=\"randomized\", random_state=RANDOM_SEED)))\n",
    "\n",
    "steps.append((\"knn\", KNeighborsClassifier(\n",
    "    n_neighbors=K_NEIGHBORS,\n",
    "    weights=K_WEIGHTS,\n",
    "    metric=K_METRIC,\n",
    "    n_jobs=N_JOBS\n",
    ")))\n",
    "knn_pipe = Pipeline(steps)"
   ]
  },
  {
   "cell_type": "code",
   "execution_count": 12,
   "id": "0eb8da98",
   "metadata": {},
   "outputs": [
    {
     "name": "stdout",
     "output_type": "stream",
     "text": [
      "\n",
      "==== Training KNN ====\n",
      "[INFO] Training time: 16.3s\n"
     ]
    }
   ],
   "source": [
    "\n",
    "# -------------------------------\n",
    "# Train\n",
    "# -------------------------------\n",
    "print(\"\\n==== Training KNN ====\")\n",
    "t1 = time.time()\n",
    "knn_pipe.fit(X_tr, y_tr)\n",
    "train_time = time.time() - t1\n",
    "print(f\"[INFO] Training time: {train_time:.1f}s\")"
   ]
  },
  {
   "cell_type": "code",
   "execution_count": 14,
   "id": "c30ceca2",
   "metadata": {},
   "outputs": [
    {
     "name": "stdout",
     "output_type": "stream",
     "text": [
      "\n",
      "[RESULT] Test Acc=0.8518 | Macro-F1=0.7955\n",
      "\n",
      "Classification report:\n",
      "               precision    recall  f1-score   support\n",
      "\n",
      "         CNV     0.9280    0.9149    0.9214      5617\n",
      "         DME     0.9103    0.6883    0.7839      1739\n",
      "      DRUSEN     0.6672    0.5884    0.6253      1329\n",
      "      NORMAL     0.7909    0.9219    0.8514      3984\n",
      "\n",
      "    accuracy                         0.8518     12669\n",
      "   macro avg     0.8241    0.7784    0.7955     12669\n",
      "weighted avg     0.8551    0.8518    0.8495     12669\n",
      "\n",
      "Confusion matrix:\n",
      " [[5139   31  218  229]\n",
      " [ 134 1197   35  373]\n",
      " [ 172    6  782  369]\n",
      " [  93   81  137 3673]]\n"
     ]
    },
    {
     "data": {
      "image/png": "[encoded data removed]",
      "text/plain": [
       "<Figure size 600x500 with 2 Axes>"
      ]
     },
     "metadata": {},
     "output_type": "display_data"
    },
    {
     "name": "stdout",
     "output_type": "stream",
     "text": [
      "ROC-AUC (OvR): 0.9495\n"
     ]
    }
   ],
   "source": [
    "import matplotlib.pyplot as plt\n",
    "import seaborn as sns\n",
    "\n",
    "# -------------------------------\n",
    "# Evaluate\n",
    "# -------------------------------\n",
    "y_pred = knn_pipe.predict(X_test)\n",
    "acc    = accuracy_score(y_test, y_pred)\n",
    "f1m    = f1_score(y_test, y_pred, average=\"macro\")\n",
    "print(f\"\\n[RESULT] Test Acc={acc:.4f} | Macro-F1={f1m:.4f}\")\n",
    "\n",
    "print(\"\\nClassification report:\\n\", classification_report(y_test, y_pred, target_names=CLASSES, digits=4))\n",
    "cm = confusion_matrix(y_test, y_pred)\n",
    "print(\"Confusion matrix:\\n\", cm)\n",
    "\n",
    "# ---- Plot Confusion Matrix ----\n",
    "plt.figure(figsize=(6,5))\n",
    "sns.heatmap(cm, annot=True, fmt=\"d\", cmap=\"Blues\",\n",
    "            xticklabels=CLASSES, yticklabels=CLASSES)\n",
    "plt.xlabel(\"Predicted\")\n",
    "plt.ylabel(\"True\")\n",
    "plt.title(\"Confusion Matrix (KNN)\")\n",
    "plt.tight_layout()\n",
    "plt.show()\n",
    "\n",
    "# ROC-AUC (OvR) via pseudo-proba from neighbor votes\n",
    "auc_ovr = None\n",
    "try:\n",
    "    if hasattr(knn_pipe[-1], \"predict_proba\"):\n",
    "        y_score = knn_pipe.predict_proba(X_test)\n",
    "        y_bin = label_binarize(y_test, classes=np.arange(len(CLASSES)))\n",
    "        auc_ovr = roc_auc_score(y_bin, y_score, multi_class=\"ovr\")\n",
    "except Exception:\n",
    "    pass\n",
    "print(f\"ROC-AUC (OvR): {auc_ovr:.4f}\" if auc_ovr is not None else \"ROC-AUC (OvR): N/A\")\n"
   ]
  },
  {
   "cell_type": "code",
   "execution_count": 16,
   "id": "338cdb2b",
   "metadata": {},
   "outputs": [
    {
     "name": "stdout",
     "output_type": "stream",
     "text": [
      "[SAVED] C:\\Users\\sheno\\OneDrive\\CODCSD201F-006-SetupFile\\Desktop\\FINAL\\models\\knn_confusion_matrix_normalized.png\n"
     ]
    }
   ],
   "source": [
    "import numpy as np\n",
    "\n",
    "# ---- Normalized Confusion Matrix ----\n",
    "cm_norm = cm.astype(\"float\") / cm.sum(axis=1)[:, np.newaxis]  # row-wise normalization\n",
    "\n",
    "plt.figure(figsize=(6,5))\n",
    "sns.heatmap(cm_norm, annot=True, fmt=\".2f\", cmap=\"Blues\",\n",
    "            xticklabels=CLASSES, yticklabels=CLASSES)\n",
    "plt.xlabel(\"Predicted\")\n",
    "plt.ylabel(\"True\")\n",
    "plt.title(\"Normalized Confusion Matrix (KNN)\")\n",
    "plt.tight_layout()\n",
    "\n",
    "cm_norm_plot_path = os.path.join(OUT_DIR, \"knn_confusion_matrix_normalized.png\")\n",
    "plt.savefig(cm_norm_plot_path, dpi=300)\n",
    "plt.close()\n",
    "print(f\"[SAVED] {cm_norm_plot_path}\")\n"
   ]
  },
  {
   "cell_type": "code",
   "execution_count": 15,
   "id": "c1e3fab4",
   "metadata": {},
   "outputs": [
    {
     "name": "stdout",
     "output_type": "stream",
     "text": [
      "[SAVED] C:\\Users\\sheno\\OneDrive\\CODCSD201F-006-SetupFile\\Desktop\\FINAL\\models\\knn_model.pkl\n",
      "[SAVED] C:\\Users\\sheno\\OneDrive\\CODCSD201F-006-SetupFile\\Desktop\\FINAL\\models\\knn_metrics.csv\n",
      "[SAVED] C:\\Users\\sheno\\OneDrive\\CODCSD201F-006-SetupFile\\Desktop\\FINAL\\models\\knn_confusion_matrix.json\n",
      "[SAVED] C:\\Users\\sheno\\OneDrive\\CODCSD201F-006-SetupFile\\Desktop\\FINAL\\models\\knn_confusion_matrix.png\n"
     ]
    }
   ],
   "source": [
    "# Define output directory\n",
    "OUT_DIR = r\"C:\\Users\\sheno\\OneDrive\\CODCSD201F-006-SetupFile\\Desktop\\FINAL\\models\"\n",
    "os.makedirs(OUT_DIR, exist_ok=True)\n",
    "\n",
    "# -------------------------------\n",
    "# Save artefacts\n",
    "# -------------------------------\n",
    "model_path = os.path.join(OUT_DIR, \"knn_model.pkl\")\n",
    "with open(model_path, \"wb\") as f:\n",
    "    pickle.dump(knn_pipe, f)\n",
    "print(f\"[SAVED] {model_path}\")\n",
    "\n",
    "metrics_path = os.path.join(OUT_DIR, \"knn_metrics.csv\")\n",
    "with open(metrics_path, \"w\", newline=\"\") as f:\n",
    "    w = csv.writer(f)\n",
    "    w.writerow([\"metric\",\"value\"])\n",
    "    w.writerow([\"test_accuracy\", f\"{acc:.6f}\"])\n",
    "    w.writerow([\"test_f1_macro\", f\"{f1m:.6f}\"])\n",
    "    w.writerow([\"train_time_sec\", f\"{train_time:.3f}\"])\n",
    "    w.writerow([\"roc_auc_ovr\", f\"{auc_ovr:.6f}\" if auc_ovr is not None else \"\"])\n",
    "print(f\"[SAVED] {metrics_path}\")\n",
    "\n",
    "# Save confusion matrix raw values\n",
    "with open(os.path.join(OUT_DIR, \"knn_confusion_matrix.json\"), \"w\") as f:\n",
    "    json.dump(cm.tolist(), f, indent=2)\n",
    "print(f\"[SAVED] {os.path.join(OUT_DIR, 'knn_confusion_matrix.json')}\")\n",
    "\n",
    "# Save confusion matrix plot\n",
    "plt.figure(figsize=(6,5))\n",
    "sns.heatmap(cm, annot=True, fmt=\"d\", cmap=\"Blues\",\n",
    "            xticklabels=CLASSES, yticklabels=CLASSES)\n",
    "plt.xlabel(\"Predicted\")\n",
    "plt.ylabel(\"True\")\n",
    "plt.title(\"Confusion Matrix (KNN)\")\n",
    "plt.tight_layout()\n",
    "\n",
    "cm_plot_path = os.path.join(OUT_DIR, \"knn_confusion_matrix.png\")\n",
    "plt.savefig(cm_plot_path, dpi=300)\n",
    "plt.close()\n",
    "print(f\"[SAVED] {cm_plot_path}\")\n"
   ]
  }
 ],
 "metadata": {
  "kernelspec": {
   "display_name": "Python 3",
   "language": "python",
   "name": "python3"
  },
  "language_info": {
   "codemirror_mode": {
    "name": "ipython",
    "version": 3
   },
   "file_extension": ".py",
   "mimetype": "text/x-python",
   "name": "python",
   "nbconvert_exporter": "python",
   "pygments_lexer": "ipython3",
   "version": "3.13.3"
  }
 },
 "nbformat": 4,
 "nbformat_minor": 5
}
